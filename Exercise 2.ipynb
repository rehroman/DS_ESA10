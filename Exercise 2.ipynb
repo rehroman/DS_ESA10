{
 "cells": [
  {
   "cell_type": "code",
   "execution_count": 1,
   "metadata": {
    "colab": {},
    "colab_type": "code",
    "id": "tTvyGyjcynB9",
    "outputId": "0a74333b-6f40-4396-b796-eb9901ae33fe"
   },
   "outputs": [],
   "source": [
    "%matplotlib inline\n",
    "import numpy as np\n",
    "from sklearn import datasets\n",
    "iris = datasets.load_iris()\n",
    "iris_data = iris.data\n",
    "iris_labels = iris.target"
   ]
  },
  {
   "cell_type": "code",
   "execution_count": 2,
   "metadata": {
    "colab": {},
    "colab_type": "code",
    "id": "oA4xwhYBynCM",
    "outputId": "9a60447d-3833-4183-c218-9ffc7a4e2601"
   },
   "outputs": [],
   "source": [
    "def distance(instance1, instance2):\n",
    "    # just in case, if the instances are lists or tuples:\n",
    "    instance1 = np.array(instance1) \n",
    "    instance2 = np.array(instance2)\n",
    "    \n",
    "    return np.linalg.norm(instance1 - instance2)"
   ]
  },
  {
   "cell_type": "markdown",
   "metadata": {
    "colab_type": "text",
    "id": "6qUryf0KynCO"
   },
   "source": [
    "The function 'get_neighbors returns a list with 'k' neighbors, which are closest to the instance 'test_instance':"
   ]
  },
  {
   "cell_type": "code",
   "execution_count": 3,
   "metadata": {
    "colab": {},
    "colab_type": "code",
    "id": "mVDsbL6iynCP"
   },
   "outputs": [],
   "source": [
    "def get_neighbors(training_set, \n",
    "                  labels, \n",
    "                  test_instance, \n",
    "                  k, \n",
    "                  distance=distance):\n",
    "    \"\"\"\n",
    "    get_neighors calculates a list of the k nearest neighbors\n",
    "    of an instance 'test_instance'.\n",
    "    The list neighbors contains 3-tuples with  \n",
    "    (index, dist, label)\n",
    "    where \n",
    "    index    is the index from the training_set, \n",
    "    dist     is the distance between the test_instance and the \n",
    "             instance training_set[index]\n",
    "    distance is a reference to a function used to calculate the \n",
    "             distances\n",
    "    \"\"\"\n",
    "    distances = []\n",
    "    for index in range(len(training_set)):\n",
    "        dist = distance(test_instance, training_set[index])\n",
    "        distances.append((training_set[index], dist, labels[index]))\n",
    "    distances.sort(key=lambda x: x[1])\n",
    "    neighbors = distances[:k]\n",
    "    return neighbors"
   ]
  },
  {
   "cell_type": "markdown",
   "metadata": {},
   "source": [
    "__Voting to get a Single Result__\n",
    "\n",
    "We will write a vote function now. This functions uses the class 'Counter' from collections to count the quantity of the classes inside of an instance list. This instance list will be the neighbors of course. The function 'vote' returns the most common class:"
   ]
  },
  {
   "cell_type": "code",
   "execution_count": 4,
   "metadata": {
    "colab": {},
    "colab_type": "code",
    "id": "PcfsIsihynCb"
   },
   "outputs": [],
   "source": [
    "from collections import Counter\n",
    "\n",
    "def vote_prob(neighbors):\n",
    "    class_counter = Counter()\n",
    "    for neighbor in neighbors:\n",
    "        class_counter[neighbor[2]] += 1\n",
    "    labels, votes = zip(*class_counter.most_common())\n",
    "    winner = class_counter.most_common(1)[0][0]\n",
    "    votes4winner = class_counter.most_common(1)[0][1]\n",
    "    return winner, votes4winner/sum(votes)"
   ]
  },
  {
   "cell_type": "markdown",
   "metadata": {},
   "source": [
    "---\n",
    "\n",
    "Aufbauend darauf machen wir eine Prediction für die vorgegebenen Daten 4.8,2.5,5.3,2.4\n",
    "\n",
    "---"
   ]
  },
  {
   "cell_type": "code",
   "execution_count": 5,
   "metadata": {},
   "outputs": [
    {
     "name": "stdout",
     "output_type": "stream",
     "text": [
      "vote_prob:  (2, 1.0) , data:  [4.8, 2.5, 5.3, 2.4]\n"
     ]
    }
   ],
   "source": [
    "to_find_testset = [4.8,2.5,5.3,2.4] #die zu suchende Klasse\n",
    "\n",
    "neighbors = get_neighbors(iris_data, #das volle iris set nutzen\n",
    "                              iris_labels,\n",
    "                              to_find_testset, \n",
    "                              5, \n",
    "                              distance=distance)\n",
    "print(\"vote_prob: \", vote_prob(neighbors), \n",
    "          \", data: \", to_find_testset)"
   ]
  },
  {
   "cell_type": "markdown",
   "metadata": {},
   "source": [
    "---\n",
    "vote_prob gibt uns die Klassennummer und die Wahrscheinlichkeit für die Klasse. Wir haben also wieder eine sehr hohe Wahrscheinlichkeit für die Virginica!\n",
    "\n",
    "---"
   ]
  }
 ],
 "metadata": {
  "colab": {
   "name": "IRIS-KNN.ipynb",
   "provenance": []
  },
  "kernelspec": {
   "display_name": "Python 3 (ipykernel)",
   "language": "python",
   "name": "python3"
  },
  "language_info": {
   "codemirror_mode": {
    "name": "ipython",
    "version": 3
   },
   "file_extension": ".py",
   "mimetype": "text/x-python",
   "name": "python",
   "nbconvert_exporter": "python",
   "pygments_lexer": "ipython3",
   "version": "3.9.7"
  }
 },
 "nbformat": 4,
 "nbformat_minor": 4
}
