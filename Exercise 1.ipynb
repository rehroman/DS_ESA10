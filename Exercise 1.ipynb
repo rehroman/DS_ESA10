{
 "cells": [
  {
   "cell_type": "markdown",
   "id": "ecabe4c2-50e5-4ab8-b2ef-3307223a6784",
   "metadata": {},
   "source": [
    "---\n",
    "Beispieldaten mit Target Klasse:\n",
    "\n",
    "---"
   ]
  },
  {
   "cell_type": "code",
   "execution_count": 1,
   "id": "469ab72d-f084-4db6-97fe-5fd2e047251a",
   "metadata": {},
   "outputs": [
    {
     "data": {
      "text/plain": [
       "[[400, 0.8, 0],\n",
       " [134000, 0.9, 0],\n",
       " [20000, 1.1, 0],\n",
       " [32000, 0.1, 1],\n",
       " [780, 0.2, 1],\n",
       " [56800, 1.0, 1]]"
      ]
     },
     "execution_count": 1,
     "metadata": {},
     "output_type": "execute_result"
    }
   ],
   "source": [
    "demo_data = [[400,0.8,0],\n",
    "[134000,0.9,0],\n",
    "[20000,1.1,0],\n",
    "[32000,0.1,1],\n",
    "[780,0.2,1],\n",
    "[56800,1.0,1]]\n",
    "demo_data"
   ]
  },
  {
   "cell_type": "markdown",
   "id": "5f738fd5-f703-4d0e-8ec5-9e9663299204",
   "metadata": {},
   "source": [
    "---\n",
    "\n",
    "Daten normalisieren zwischen 0 und 1:\\\n",
    "Min und Max Values für alle Spalten in Liste schreiben\n",
    "\n",
    "---"
   ]
  },
  {
   "cell_type": "code",
   "execution_count": 2,
   "id": "7c9a4923-f43f-435a-9c66-0be6f3b95796",
   "metadata": {},
   "outputs": [
    {
     "data": {
      "text/plain": [
       "[[400, 134000], [0.1, 1.1], [0, 1]]"
      ]
     },
     "execution_count": 2,
     "metadata": {},
     "output_type": "execute_result"
    }
   ],
   "source": [
    "minmax = list()\n",
    "for i in range(len(demo_data[0])):\n",
    "    col_values = [row[i] for row in demo_data]\n",
    "    value_min = min(col_values)\n",
    "    value_max = max(col_values)\n",
    "    minmax.append([value_min, value_max])\n",
    "minmax"
   ]
  },
  {
   "cell_type": "markdown",
   "id": "8a76d449-d82c-4e85-a336-dc4a48b4d656",
   "metadata": {},
   "source": [
    "---\n",
    "\n",
    "Normalisierung durchführen für alle Werte in Spalten und Reihen\n",
    "\n",
    "---"
   ]
  },
  {
   "cell_type": "code",
   "execution_count": 3,
   "id": "945de546-d924-4f0a-964a-7ddeed753b85",
   "metadata": {},
   "outputs": [
    {
     "data": {
      "text/plain": [
       "[[0.0, 0.7000000000000001, 0],\n",
       " [1.0, 0.8, 0],\n",
       " [0.1467065868263473, 1.0, 0],\n",
       " [0.23652694610778444, 0.0, 1],\n",
       " [0.002844311377245509, 0.1, 1],\n",
       " [0.4221556886227545, 0.9, 1]]"
      ]
     },
     "execution_count": 3,
     "metadata": {},
     "output_type": "execute_result"
    }
   ],
   "source": [
    "demo_data = [[400,0.8,0],\n",
    "[134000,0.9,0],\n",
    "[20000,1.1,0],\n",
    "[32000,0.1,1],\n",
    "[780,0.2,1],\n",
    "[56800,1.0,1]]\n",
    "\n",
    "demo_data_norm = demo_data.copy()\n",
    "\n",
    "def normalize_column(column):\n",
    "            for y in range(len(demo_data)):\n",
    "                demo_data_norm[y][column] = (demo_data[y][column] - minmax[column][0]) / (minmax[column][1] - minmax[column][0])\n",
    "\n",
    "for i in range(len(demo_data[0])-1):\n",
    "            normalize_column(i)\n",
    "            \n",
    "demo_data_norm"
   ]
  },
  {
   "cell_type": "markdown",
   "id": "e90c7599-f45e-4c80-8e77-dd5139a1100c",
   "metadata": {},
   "source": [
    "---\n",
    "Euclid Distance Function schreiben und dann vom ersten Punkt Abstände zur Liste hinzufügen\n",
    "\n",
    "---"
   ]
  },
  {
   "cell_type": "code",
   "execution_count": 4,
   "id": "06f2db40-9b32-4a6c-89d0-2b9eda2eb00e",
   "metadata": {},
   "outputs": [
    {
     "data": {
      "text/plain": [
       "[[0.0, 0.7000000000000001, 0, 0.0],\n",
       " [1.0, 0.8, 0, 1.004987562112089],\n",
       " [0.1467065868263473, 1.0, 0, 0.33395032956749204],\n",
       " [0.23652694610778444, 0.0, 1, 1.2433603645906826],\n",
       " [0.002844311377245509, 0.1, 1, 1.1661938475687526],\n",
       " [0.4221556886227545, 0.9, 1, 1.1037279671352684]]"
      ]
     },
     "execution_count": 4,
     "metadata": {},
     "output_type": "execute_result"
    }
   ],
   "source": [
    "demo_data = [[400,0.8,0],\n",
    "[134000,0.9,0],\n",
    "[20000,1.1,0],\n",
    "[32000,0.1,1],\n",
    "[780,0.2,1],\n",
    "[56800,1.0,1]]\n",
    "\n",
    "demo_data_norm = demo_data.copy()\n",
    "\n",
    "def normalize_column(column):\n",
    "            for y in range(len(demo_data)):\n",
    "                demo_data_norm[y][column] = (demo_data[y][column] - minmax[column][0]) / (minmax[column][1] - minmax[column][0])\n",
    "\n",
    "for i in range(len(demo_data[0])-1):\n",
    "            normalize_column(i)\n",
    "        \n",
    "        \n",
    "#neu:\n",
    "\n",
    "def euclidean_distance(row1, row2):\n",
    "    distance = 0.0\n",
    "    for i in range(len(row1)-1):\n",
    "        distance += (row1[i] - row2[i])**2\n",
    "    distance = distance ** (1/2)\n",
    "    return distance\n",
    "\n",
    "row0 = demo_data_norm[0]\n",
    "for i in range(len(demo_data)):\n",
    "    distance = euclidean_distance(row0, demo_data_norm[i])\n",
    "    demo_data_norm[i].append(distance)\n",
    "\n",
    "demo_data_norm "
   ]
  },
  {
   "cell_type": "markdown",
   "id": "f9bc85bb-06b4-463e-9179-4d465ad9b6f0",
   "metadata": {},
   "source": [
    "---\n",
    "\n",
    "Sortieren nach dem Abstand:\n",
    "\n",
    "---"
   ]
  },
  {
   "cell_type": "code",
   "execution_count": 5,
   "id": "8677f25d-c481-4ef4-885c-af562a2edf24",
   "metadata": {},
   "outputs": [
    {
     "data": {
      "text/plain": [
       "[[0.0, 0.7000000000000001, 0, 0.0],\n",
       " [0.1467065868263473, 1.0, 0, 0.33395032956749204],\n",
       " [1.0, 0.8, 0, 1.004987562112089],\n",
       " [0.4221556886227545, 0.9, 1, 1.1037279671352684],\n",
       " [0.002844311377245509, 0.1, 1, 1.1661938475687526],\n",
       " [0.23652694610778444, 0.0, 1, 1.2433603645906826]]"
      ]
     },
     "execution_count": 5,
     "metadata": {},
     "output_type": "execute_result"
    }
   ],
   "source": [
    "demo_data_norm.sort(key=lambda x:x[3])\n",
    "demo_data_norm"
   ]
  },
  {
   "cell_type": "markdown",
   "id": "3e92029e-88ff-477f-b780-41c7f51c748e",
   "metadata": {},
   "source": [
    "---\n",
    "\n",
    "Zum Beispiel k = 3 wählen und Anzahl der Target Werte Zählen\n",
    "\n",
    "---"
   ]
  },
  {
   "cell_type": "code",
   "execution_count": 6,
   "id": "fc149805-1dd1-4d00-9565-e6eebcefb92e",
   "metadata": {},
   "outputs": [
    {
     "name": "stdout",
     "output_type": "stream",
     "text": [
      "Bei k = 3 kommt 'Target 0'  3  Mal vor und 'Target 1' 0  Mal.\n"
     ]
    }
   ],
   "source": [
    "count_target_class_zero = 0\n",
    "count_target_class_one = 0\n",
    "k =  3\n",
    "\n",
    "for i in range(k):\n",
    "    target_class = demo_data_norm[i][2]\n",
    "    if target_class == 0:\n",
    "        count_target_class_zero +=1\n",
    "    else:\n",
    "        count_target_class_one +=1\n",
    "        \n",
    "print(\"Bei k =\",k,\"kommt 'Target 0' \", count_target_class_zero,\" Mal vor und 'Target 1'\", count_target_class_one, \" Mal.\")\n"
   ]
  },
  {
   "cell_type": "markdown",
   "id": "609f9980-c5ca-4c4b-a66f-3045549312d2",
   "metadata": {},
   "source": [
    "---\n",
    "\n",
    "Maximal vorkommende Klasse nehmen:\n",
    "\n",
    "---"
   ]
  },
  {
   "cell_type": "code",
   "execution_count": 7,
   "id": "b0560344-ffc0-4748-bb2d-9a8d0e634c97",
   "metadata": {},
   "outputs": [
    {
     "name": "stdout",
     "output_type": "stream",
     "text": [
      "Target Klasse 0\n"
     ]
    }
   ],
   "source": [
    "if(count_target_class_zero > count_target_class_one):\n",
    "    print(\"Target Klasse 0\")\n",
    "else:\n",
    "    print(\"Target Klasse 1\")"
   ]
  }
 ],
 "metadata": {
  "kernelspec": {
   "display_name": "Python 3 (ipykernel)",
   "language": "python",
   "name": "python3"
  },
  "language_info": {
   "codemirror_mode": {
    "name": "ipython",
    "version": 3
   },
   "file_extension": ".py",
   "mimetype": "text/x-python",
   "name": "python",
   "nbconvert_exporter": "python",
   "pygments_lexer": "ipython3",
   "version": "3.9.7"
  }
 },
 "nbformat": 4,
 "nbformat_minor": 5
}
